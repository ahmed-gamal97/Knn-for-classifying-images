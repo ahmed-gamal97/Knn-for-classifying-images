{
 "cells": [
  {
   "cell_type": "markdown",
   "metadata": {},
   "source": [
    "# CMU Face Images Data Set "
   ]
  },
  {
   "cell_type": "markdown",
   "metadata": {},
   "source": [
    "# All Needed Libraries"
   ]
  },
  {
   "cell_type": "code",
   "execution_count": 1,
   "metadata": {},
   "outputs": [],
   "source": [
    "import sys\n",
    "import numpy as np\n",
    "import matplotlib.pyplot as plt\n",
    "from scipy import ndimage\n",
    "import glob\n",
    "from sklearn.model_selection import train_test_split\n",
    "import math\n",
    "\n",
    "%matplotlib inline"
   ]
  },
  {
   "cell_type": "markdown",
   "metadata": {},
   "source": [
    "# Load the Data Images to a Matrix"
   ]
  },
  {
   "cell_type": "code",
   "execution_count": 2,
   "metadata": {},
   "outputs": [
    {
     "name": "stderr",
     "output_type": "stream",
     "text": [
      "C:\\Users\\ahmed\\Anaconda3\\envs\\tensorflow\\lib\\site-packages\\ipykernel_launcher.py:7: DeprecationWarning: `imread` is deprecated!\n",
      "`imread` is deprecated in SciPy 1.0.0.\n",
      "Use ``matplotlib.pyplot.imread`` instead.\n",
      "  import sys\n"
     ]
    },
    {
     "name": "stdout",
     "output_type": "stream",
     "text": [
      "0\n"
     ]
    },
    {
     "data": {
      "text/plain": [
       "<matplotlib.image.AxesImage at 0x1f6dd4c5710>"
      ]
     },
     "execution_count": 2,
     "metadata": {},
     "output_type": "execute_result"
    },
    {
     "data": {
      "image/png": "[encoded data removed]",
      "text/plain": [
       "<Figure size 432x288 with 1 Axes>"
      ]
     },
     "metadata": {},
     "output_type": "display_data"
    }
   ],
   "source": [
    "X_data = []\n",
    "Y_data = []\n",
    "files_pgm = glob.glob (\"images/*.pgm\")\n",
    "\n",
    "# Reading each image from images folder\n",
    "for myFile in files_pgm:\n",
    "    image = np.array(ndimage.imread(myFile, mode = 'RGB'))\n",
    "    X_data.append (image)\n",
    "    if 'sunglasses' in myFile:\n",
    "        Y_data.append(1)\n",
    "    else:\n",
    "        Y_data.append(0)\n",
    "\n",
    "# split the data into training and testing\n",
    "X_train_org, X_test_org, y_train_org, y_test_org = train_test_split(X_data, Y_data, test_size=0.3, random_state=21)\n",
    "\n",
    "# convert from list into arrays\n",
    "x_train = np.array(X_train_org)\n",
    "x_test = np.array(X_test_org)\n",
    "y_train = np.array(y_train_org)\n",
    "y_test = np.array(y_test_org)\n",
    "\n",
    "\n",
    "# 0 means (no sunglasses) and 1 means (sunglasses)\n",
    "\n",
    "# Example of a picture\n",
    "index = 0\n",
    "print(Y_data[index])\n",
    "#print(np.shape(X_data))\n",
    "plt.imshow(X_data[index])\n"
   ]
  },
  {
   "cell_type": "markdown",
   "metadata": {},
   "source": [
    "# Making sure that all matrix/vector dimensions straight"
   ]
  },
  {
   "cell_type": "code",
   "execution_count": 3,
   "metadata": {},
   "outputs": [
    {
     "name": "stdout",
     "output_type": "stream",
     "text": [
      "Number of training examples: m_train = 436\n",
      "Number of testing examples: m_test = 188\n",
      "train_set_x shape: (436, 30, 32, 3)\n",
      "train_set_y shape: (436,)\n",
      "test_set_x shape: (188, 30, 32, 3)\n",
      "test_set_y shape: (188,)\n",
      "1\n"
     ]
    },
    {
     "data": {
      "image/png": "[encoded data removed]",
      "text/plain": [
       "<Figure size 432x288 with 1 Axes>"
      ]
     },
     "metadata": {},
     "output_type": "display_data"
    }
   ],
   "source": [
    "m_train = x_train.shape[0]\n",
    "m_test = x_test.shape[0]\n",
    "\n",
    "np.reshape(y_train, (m_train, 1))\n",
    "np.reshape(y_test, (m_test, 1))\n",
    "\n",
    "print (\"Number of training examples: m_train = \" + str(m_train))\n",
    "print (\"Number of testing examples: m_test = \" + str(m_test))\n",
    "print (\"train_set_x shape: \" + str(x_train.shape))\n",
    "print (\"train_set_y shape: \" + str(y_train.shape))\n",
    "print (\"test_set_x shape: \" + str(x_test.shape))\n",
    "print (\"test_set_y shape: \" + str(y_test.shape))\n",
    "\n",
    "indTest = 4\n",
    "plt.imshow(x_test[indTest])\n",
    "print(y_test[indTest])"
   ]
  },
  {
   "cell_type": "markdown",
   "metadata": {},
   "source": [
    "# Reshaping the Images into a one long Vector"
   ]
  },
  {
   "cell_type": "code",
   "execution_count": 4,
   "metadata": {},
   "outputs": [
    {
     "name": "stdout",
     "output_type": "stream",
     "text": [
      "train_set_x_flatten shape: (436, 2880)\n",
      "train_set_y shape: (436,)\n",
      "test_set_x_flatten shape: (188, 2880)\n",
      "test_set_y shape: (188,)\n",
      "2880\n",
      "188\n"
     ]
    }
   ],
   "source": [
    "# Reshape the training and test examples\n",
    "\n",
    "### START CODE HERE ### (≈ 2 lines of code)\n",
    "train_set_x_flatten = x_train.reshape(x_train.shape[0], -1)\n",
    "test_set_x_flatten = x_test.reshape(x_test.shape[0], -1)\n",
    "### END CODE HERE ###\n",
    "\n",
    "print (\"train_set_x_flatten shape: \" + str(train_set_x_flatten.shape))\n",
    "print (\"train_set_y shape: \" + str(y_train.shape))\n",
    "print (\"test_set_x_flatten shape: \" + str(test_set_x_flatten.shape))\n",
    "print (\"test_set_y shape: \" + str(y_test.shape))\n",
    "\n",
    "print(len(test_set_x_flatten[0]))\n",
    "print(len(test_set_x_flatten))"
   ]
  },
  {
   "cell_type": "markdown",
   "metadata": {},
   "source": [
    "# EuclideanDistance to measure the distace "
   ]
  },
  {
   "cell_type": "code",
   "execution_count": 5,
   "metadata": {},
   "outputs": [
    {
     "data": {
      "text/plain": [
       "5.0"
      ]
     },
     "execution_count": 5,
     "metadata": {},
     "output_type": "execute_result"
    }
   ],
   "source": [
    "def euclideanDistance(instance1, instance2):\n",
    "    distance = np.power((np.array(instance1) - np.array(instance2)), 2)\n",
    "    distance = np.sum(distance)\n",
    "    return math.sqrt(distance)\n",
    "\n",
    "euclideanDistance([4,3,0],[0,0,0])"
   ]
  },
  {
   "cell_type": "code",
   "execution_count": 6,
   "metadata": {},
   "outputs": [
    {
     "name": "stdout",
     "output_type": "stream",
     "text": [
      "[375, 251, 249]\n"
     ]
    }
   ],
   "source": [
    "import operator \n",
    "\n",
    "def getNeighbors(trainingSet, testInstance, k):\n",
    "    distances = []\n",
    "    \n",
    "    for x in range(len(trainingSet)):\n",
    "        dist = euclideanDistance(testInstance, trainingSet[x])\n",
    "        distances.append((x, dist))\n",
    "        \n",
    "        \n",
    "    distances.sort(key=operator.itemgetter(1))\n",
    "    neighbors = []\n",
    "    \n",
    "    for x in range(k):\n",
    "        neighbors.append(distances[x][0])\n",
    "   \n",
    "    \n",
    "    \n",
    "    return neighbors\n",
    "\n",
    "result = getNeighbors(train_set_x_flatten , test_set_x_flatten[60], 3)\n",
    "print(result)\n",
    "\n",
    "#print(np.shape(test_set_x_flatten))"
   ]
  },
  {
   "cell_type": "markdown",
   "metadata": {},
   "source": [
    "# Response or the prediction"
   ]
  },
  {
   "cell_type": "code",
   "execution_count": 7,
   "metadata": {},
   "outputs": [
    {
     "name": "stdout",
     "output_type": "stream",
     "text": [
      "1\n"
     ]
    }
   ],
   "source": [
    "def getResponse(neighbors):\n",
    "    classVotes = {}\n",
    "    \n",
    "    for x in range(len(neighbors)):\n",
    "        \n",
    "        response = y_train[neighbors[x]]\n",
    "        \n",
    "        if response in classVotes:\n",
    "            classVotes[response] += 1\n",
    "        else:\n",
    "            classVotes[response] = 1\n",
    "            \n",
    "    sortedVotes = sorted(classVotes.items(), key=operator.itemgetter(1), reverse=True)\n",
    "    #print(sortedVotes)\n",
    "    return sortedVotes[0][0]\n",
    "\n",
    "prediction = getResponse(result)\n",
    "print(prediction)"
   ]
  },
  {
   "cell_type": "markdown",
   "metadata": {},
   "source": [
    "# Accuracy"
   ]
  },
  {
   "cell_type": "code",
   "execution_count": 8,
   "metadata": {},
   "outputs": [],
   "source": [
    "def getAccuracy(testSet, predictions):\n",
    "    \n",
    "    correct = 0\n",
    "    for x in range(len(testSet)):\n",
    "        if testSet[x] == predictions[x]:\n",
    "            correct += 1\n",
    "    return (correct/float(len(testSet))) * 100.0\n"
   ]
  },
  {
   "cell_type": "markdown",
   "metadata": {},
   "source": [
    "# The Model"
   ]
  },
  {
   "cell_type": "code",
   "execution_count": 11,
   "metadata": {},
   "outputs": [],
   "source": [
    "\n",
    "def main():\n",
    "    \n",
    "    #train_set_x_flatten shape: (436, 2880)\n",
    "    #train_set_y shape: (436,)\n",
    "    #test_set_x_flatten shape: (188, 2880)\n",
    "    #test_set_y shape: (188,)\n",
    "\n",
    "    # generate predictions\n",
    "    predictions=[]\n",
    "    k = 2\n",
    "    \n",
    "    for x in range(len(test_set_x_flatten)):\n",
    "        \n",
    "        neighbors = getNeighbors(train_set_x_flatten, test_set_x_flatten[x], k)     \n",
    "        result = getResponse(neighbors)\n",
    "        \n",
    "        predictions.append(result)\n",
    "    \n",
    "        #print('> predicted=' + repr(result) + ', actual=' + repr(y_test[x]))\n",
    "    \n",
    "    accuracy = getAccuracy(y_test, predictions)\n",
    "    print('Accuracy: ' + repr(accuracy) + '%')"
   ]
  },
  {
   "cell_type": "code",
   "execution_count": 12,
   "metadata": {},
   "outputs": [
    {
     "name": "stdout",
     "output_type": "stream",
     "text": [
      "Accuracy: 81.38297872340425%\n"
     ]
    }
   ],
   "source": [
    "main()"
   ]
  },
  {
   "cell_type": "code",
   "execution_count": null,
   "metadata": {
    "collapsed": true
   },
   "outputs": [],
   "source": []
  }
 ],
 "metadata": {
  "kernelspec": {
   "display_name": "Python 3",
   "language": "python",
   "name": "python3"
  },
  "language_info": {
   "codemirror_mode": {
    "name": "ipython",
    "version": 3
   },
   "file_extension": ".py",
   "mimetype": "text/x-python",
   "name": "python",
   "nbconvert_exporter": "python",
   "pygments_lexer": "ipython3",
   "version": "3.5.5"
  }
 },
 "nbformat": 4,
 "nbformat_minor": 2
}
